{
 "cells": [
  {
   "cell_type": "code",
   "execution_count": 1,
   "id": "acb8dac7-f42e-4779-9ed2-3945280815e2",
   "metadata": {},
   "outputs": [],
   "source": [
    "import os\n",
    "ListOfMinutes = []\n",
    "files = [f for f in os.listdir('.') if os.path.isfile(f)]\n",
    "for f in files:\n",
    "    if 'OCRSentencesWordsDataRetrevingVersion5.ipynb' == str(f):\n",
    "        print('python')\n",
    "    else:\n",
    "        ListOfMinutes.append(str(f))"
   ]
  },
  {
   "cell_type": "code",
   "execution_count": 2,
   "id": "e607d7f1-d5ea-49bf-918c-1eaac0bf6fdd",
   "metadata": {
    "collapsed": true,
    "jupyter": {
     "outputs_hidden": true
    },
    "tags": []
   },
   "outputs": [
    {
     "name": "stdout",
     "output_type": "stream",
     "text": [
      "['Minutes-30.pdfout_text.txt', 'Minutes-77.pdfout_text.txt', 'Minutes-53.pdfout_text.txt', 'Minutes-61.pdfout_text.txt', 'Minutes-80.pdfout_text.txt', 'Minutes-26.pdfout_text.txt', 'Minutes-45.pdfout_text.txt', 'Minutes-78.pdfout_text.txt', 'Untitled1.ipynb', 'Minutes-42.pdfout_text.txt', 'Minutes-7.pdfout_text.txt', '.DS_Store', 'Minutes-21.pdfout_text.txt', 'Minutes-66.pdfout_text.txt', 'Minutes-88.pdfout_text.txt', 'Minutes-69.pdfout_text.txt', 'Minutes-8.pdfout_text.txt', 'Minutes-70.pdfout_text.txt', 'Minutes-37.pdfout_text.txt', 'Untitled.ipynb', 'Minutes-43.pdfout_text.txt', 'Minutes-6.pdfout_text.txt', 'Minutes-67.pdfout_text.txt', 'Minutes-20.pdfout_text.txt', 'Minutes-86.pdfout_text.txt', 'Minutes-55.pdfout_text.txt', 'Minutes-68.pdfout_text.txt', 'Minutes-90.pdfout_text.txt', 'Minutes-36.pdfout_text.txt', 'Minutes-9.pdfout_text.txt', 'Minutes-31.pdfout_text.txt', 'Minutes-52.pdfout_text.txt', 'Minutes-27.pdfout_text.txt', 'Minutes-60.pdfout_text.txt', 'Minutes-44.pdfout_text.txt', 'Minutes-58.pdfout_text.txt', 'Minutes-65.pdfout_text.txt', 'Minutes-84.pdfout_text.txt', 'Minutes-22.pdfout_text.txt', 'Minutes-41.pdfout_text.txt', 'Minutes-34.pdfout_text.txt', 'Minutes1pdf.pdfout_text.txt', 'Minutes-73.pdfout_text.txt', 'Minutes-50.pdfout_text.txt', 'Minutes-33.pdfout_text.txt', 'Minutes-46.pdfout_text.txt', 'Minutes-25.pdfout_text.txt', 'Minutes-83.pdfout_text.txt', 'Minutes-18.pdfout_text.txt', 'Minutes-51.pdfout_text.txt', 'Minutes-32.pdfout_text.txt', 'Minutes-75.pdfout_text.txt', 'Minutes-47.pdfout_text.txt', 'Minutes-63.pdfout_text.txt', 'Minutes-24.pdfout_text.txt', 'Minutes-82.pdfout_text.txt', 'Minutes-19.pdfout_text.txt', 'Minutes-23.pdfout_text.txt', 'Minutes-59.pdfout_text.txt', 'Minutes-40.pdfout_text.txt', 'Minutes-5.pdfout_text.txt', 'Minutes-72.pdfout_text.txt', 'Minutes-35.pdfout_text.txt', 'Minutes-56.pdfout_text.txt']\n"
     ]
    }
   ],
   "source": [
    "print(ListOfMinutes)"
   ]
  },
  {
   "cell_type": "code",
   "execution_count": null,
   "id": "9f8af359-c959-4a99-b55c-45db2d76bc13",
   "metadata": {},
   "outputs": [],
   "source": []
  }
 ],
 "metadata": {
  "kernelspec": {
   "display_name": "Python 3 (ipykernel)",
   "language": "python",
   "name": "python3"
  },
  "language_info": {
   "codemirror_mode": {
    "name": "ipython",
    "version": 3
   },
   "file_extension": ".py",
   "mimetype": "text/x-python",
   "name": "python",
   "nbconvert_exporter": "python",
   "pygments_lexer": "ipython3",
   "version": "3.9.7"
  }
 },
 "nbformat": 4,
 "nbformat_minor": 5
}
